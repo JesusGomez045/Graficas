{
 "cells": [
  {
   "attachments": {},
   "cell_type": "markdown",
   "metadata": {},
   "source": [
    "# TITULO PRINCIPAL \n",
    "## SUBTITULO\n",
    "### SUBTITULO\n",
    "#### SUBTITULO\n",
    "<H1>EJEMPLO</H1>\n",
    "\n",
    "<H6>EJEMPLO DE ESTILO INCRUSTADO</H6>\n",
    "\n",
    "<img src=\"https://i.pinimg.com/564x/17/aa/48/17aa484b520a96167baf5f3f4627cca3.jpg\" style width=\"300px\">\n"
   ]
  }
 ],
 "metadata": {
  "language_info": {
   "name": "python"
  },
  "orig_nbformat": 4
 },
 "nbformat": 4,
 "nbformat_minor": 2
}
